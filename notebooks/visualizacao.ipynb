{
 "cells": [
  {
   "cell_type": "code",
   "execution_count": 3,
   "metadata": {},
   "outputs": [],
   "source": [
    "\n",
    "import sys\n",
    "import os\n",
    "sys.path.append(os.path.abspath(os.path.join(\"..\", \"src\")))\n",
    "\n",
    "from estatisticas import carregar_grafo, calcular_estatisticas\n",
    "\n"
   ]
  },
  {
   "cell_type": "code",
   "execution_count": 4,
   "metadata": {},
   "outputs": [],
   "source": [
    "caminho = \"../selected_instances/BHW1.dat\"  \n",
    "grafo = carregar_grafo(caminho)\n",
    "\n",
    "stats = calcular_estatisticas(grafo)"
   ]
  },
  {
   "cell_type": "code",
   "execution_count": 7,
   "metadata": {},
   "outputs": [
    {
     "name": "stdout",
     "output_type": "stream",
     "text": [
      "Quantidade de vértices: 12\n",
      "Quantidade de arestas: 0\n",
      "Quantidade de arcos: 0\n",
      "Quantidade de vértices requeridos: 7\n",
      "Quantidade de arestas requeridas: 11\n",
      "Quantidade de arcos requeridos: 11\n",
      "Densidade do grafo: 0.3333333333333333\n",
      "Componentes conectados: [{1, 2, 3, 4, 5, 6, 7, 8, 9, 10, 11, 12}]\n",
      "Grau mínimo: 3\n",
      "Grau máximo: 5\n",
      "Intermediação (betweenness): {1: 0, 2: 28, 3: 10, 4: 0, 5: 25, 6: 13, 7: 13, 8: 17, 9: 30, 10: 8, 11: 29, 12: 5}\n",
      "Caminho médio: 24.388429752066116\n",
      "Diâmetro: 65.0\n"
     ]
    }
   ],
   "source": [
    "for chave, valor in stats.items():\n",
    "    print(f\"{chave}: {valor}\")"
   ]
  }
 ],
 "metadata": {
  "kernelspec": {
   "display_name": ".venv",
   "language": "python",
   "name": "python3"
  },
  "language_info": {
   "codemirror_mode": {
    "name": "ipython",
    "version": 3
   },
   "file_extension": ".py",
   "mimetype": "text/x-python",
   "name": "python",
   "nbconvert_exporter": "python",
   "pygments_lexer": "ipython3",
   "version": "3.13.2"
  }
 },
 "nbformat": 4,
 "nbformat_minor": 2
}
